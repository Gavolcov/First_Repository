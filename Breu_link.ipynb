{
 "cells": [
  {
   "cell_type": "code",
   "execution_count": 1,
   "id": "8e2c7429",
   "metadata": {},
   "outputs": [],
   "source": [
    "#Definindo bibliotecas\n",
    "import pyautogui\n",
    "import pyperclip\n",
    "import time\n",
    "\n",
    "#Definindo o valor de pausa entre comandos de execução \"pyautogui\"\n",
    "pyautogui.PAUSE = 1.5\n",
    "\n",
    "#Abrindo nova aba com drive\n",
    "pyautogui.hotkey(\"ctrl\",\"n\")\n",
    "pyperclip.copy(\"https://drive.google.com/drive/my-drive\")\n",
    "pyautogui.hotkey(\"ctrl\",\"v\")\n",
    "pyautogui.press(\"enter\")\n",
    "time.sleep(1.5)\n",
    "\n",
    "#Abrindo nova aba com planilha de analises\n",
    "pyautogui.hotkey(\"ctrl\",\"t\")\n",
    "pyperclip.copy(\"https://docs.google.com/spreadsheets/d/1k_4GYcZHmEwmRYf4uPc7Alt9m1cIy2_SZ3G3BkqQgk0/edit#gid=248696529\")\n",
    "pyautogui.hotkey(\"ctrl\",\"v\")\n",
    "pyautogui.press(\"enter\")\n",
    "time.sleep(2.5)\n",
    "\n",
    "#Direcionando a seleção de celula para a ultima vazia na coluna de links\n",
    "pyautogui.press(\"down\")\n",
    "with pyautogui.hold('ctrl'):\n",
    "        pyautogui.press('right')\n",
    "        time.sleep(0.5)\n",
    "with pyautogui.hold('ctrl'):\n",
    "        pyautogui.press('down')\n",
    "        time.sleep(0.5)\n",
    "pyautogui.press('down')\n",
    "\n",
    "#Retornando para aba do drive\n",
    "with pyautogui.hold('ctrl','shift'):\n",
    "    pyautogui.press(\"tab\")\n",
    "    time.sleep(0.5)\n",
    "\n",
    "        \n",
    "i = 0\n",
    "j = 1\n",
    "while i != j:\n",
    "        \n",
    "        j = i\n",
    "        #Selecionando a foto, copiando o link e liberando acesso\n",
    "        pyautogui.click(x=350, y=585)  #Foto\n",
    "        pyautogui.click(x=1030, y=190)  #Icone de compartilhamento\n",
    "        time.sleep(1.5)\n",
    "        pyautogui.click(x=509, y=570)  #Copiar link\n",
    "        pyautogui.click(x=509, y=507)  #Restrito\n",
    "        time.sleep(0.5)\n",
    "        pyautogui.click(x=509, y=604)  #Qualquer pessoa com o link\n",
    "        pyautogui.click(x=839, y=611)  #Concluido\n",
    "\n",
    "        #Movendo a foto para a pasta de arquivo do mês\n",
    "        pyautogui.click(x=1200, y=200)  #Mais opções\n",
    "        time.sleep(1.5)\n",
    "        pyautogui.click(x=1031, y=359)  #Mover para\n",
    "        time.sleep(1)\n",
    "        pyautogui.click(x=1044, y=395)\n",
    "        pyautogui.click(x=1200, y=500)\n",
    "\n",
    "        #Voltando para a planilha e colando o link copiado\n",
    "        with pyautogui.hold('ctrl','shift'):\n",
    "            pyautogui.press('tab')\n",
    "        pyautogui.hotkey(\"ctrl\",\"v\")\n",
    "        pyautogui.press('down')\n",
    "\n",
    "        #Voltando para o drive\n",
    "        with pyautogui.hold('ctrl','shift'):\n",
    "             pyautogui.press('tab')\n",
    "\n",
    "        i = pyperclip.paste()\n",
    "\n",
    "else:\n",
    "        #Voltando para a planilha para apagar o ultimo valor copiado\n",
    "        with pyautogui.hold('ctrl','shift'):\n",
    "             pyautogui.press('tab')\n",
    "        pyautogui.press('up')\n",
    "        pyautogui.press('delete')\n",
    "        "
   ]
  },
  {
   "cell_type": "code",
   "execution_count": 2,
   "id": "93de34ef",
   "metadata": {},
   "outputs": [
    {
     "data": {
      "text/plain": [
       "' Descobrindo onde está o mouse\\n    time.sleep(5)\\n    pyautogui.position()\\n'"
      ]
     },
     "execution_count": 2,
     "metadata": {},
     "output_type": "execute_result"
    }
   ],
   "source": [
    "\"\"\" Descobrindo onde está o mouse\n",
    "    time.sleep(5)\n",
    "    pyautogui.position()\n",
    "\"\"\""
   ]
  }
 ],
 "metadata": {
  "kernelspec": {
   "display_name": "Python 3 (ipykernel)",
   "language": "python",
   "name": "python3"
  },
  "language_info": {
   "codemirror_mode": {
    "name": "ipython",
    "version": 3
   },
   "file_extension": ".py",
   "mimetype": "text/x-python",
   "name": "python",
   "nbconvert_exporter": "python",
   "pygments_lexer": "ipython3",
   "version": "3.9.12"
  }
 },
 "nbformat": 4,
 "nbformat_minor": 5
}
